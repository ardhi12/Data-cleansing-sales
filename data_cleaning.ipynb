{
 "metadata": {
  "language_info": {
   "codemirror_mode": {
    "name": "ipython",
    "version": 3
   },
   "file_extension": ".py",
   "mimetype": "text/x-python",
   "name": "python",
   "nbconvert_exporter": "python",
   "pygments_lexer": "ipython3",
   "version": "3.8.7"
  },
  "orig_nbformat": 2,
  "kernelspec": {
   "name": "python387jvsc74a57bd05c0372ed38b372118c24adb00d45654d76c8d10261533c5724e3f5fc1d75489a",
   "display_name": "Python 3.8.7 64-bit"
  }
 },
 "nbformat": 4,
 "nbformat_minor": 2,
 "cells": [
  {
   "cell_type": "code",
   "execution_count": 19,
   "metadata": {},
   "outputs": [],
   "source": [
    "# import library\n",
    "import pandas as pd"
   ]
  },
  {
   "cell_type": "code",
   "execution_count": 20,
   "metadata": {},
   "outputs": [],
   "source": [
    "# read data\n",
    "df = pd.read_csv(\"dataset/sales_data.csv\")"
   ]
  },
  {
   "cell_type": "code",
   "execution_count": 21,
   "metadata": {},
   "outputs": [
    {
     "output_type": "execute_result",
     "data": {
      "text/plain": [
       "                 country             type  channel priority        date  \\\n",
       "0                 Tuvalu        Baby Food  Offline        H  2010-05-28   \n",
       "1                Grenada           Cereal   Online        C  2012-08-22   \n",
       "2                 Russia              NaN  Offline        L  2014-05-02   \n",
       "3  Sao Tome and Principe           Fruits   Online        C  2014-06-20   \n",
       "4                 Rwanda  Office Supplies  Offline        L         NaN   \n",
       "\n",
       "          id ship_date  units_sold  unit_price  unit_cost  \n",
       "0  669165933   6/27/10      9925.0      255.28     159.42  \n",
       "1  963881480   9/15/12         NaN      205.70     117.11  \n",
       "2  341417157    5/8/14      1779.0      651.21     524.96  \n",
       "3  514321792    7/5/14      8102.0        9.33       6.92  \n",
       "4  115456712    2/6/13      5062.0      651.21     524.96  "
      ],
      "text/html": "<div>\n<style scoped>\n    .dataframe tbody tr th:only-of-type {\n        vertical-align: middle;\n    }\n\n    .dataframe tbody tr th {\n        vertical-align: top;\n    }\n\n    .dataframe thead th {\n        text-align: right;\n    }\n</style>\n<table border=\"1\" class=\"dataframe\">\n  <thead>\n    <tr style=\"text-align: right;\">\n      <th></th>\n      <th>country</th>\n      <th>type</th>\n      <th>channel</th>\n      <th>priority</th>\n      <th>date</th>\n      <th>id</th>\n      <th>ship_date</th>\n      <th>units_sold</th>\n      <th>unit_price</th>\n      <th>unit_cost</th>\n    </tr>\n  </thead>\n  <tbody>\n    <tr>\n      <th>0</th>\n      <td>Tuvalu</td>\n      <td>Baby Food</td>\n      <td>Offline</td>\n      <td>H</td>\n      <td>2010-05-28</td>\n      <td>669165933</td>\n      <td>6/27/10</td>\n      <td>9925.0</td>\n      <td>255.28</td>\n      <td>159.42</td>\n    </tr>\n    <tr>\n      <th>1</th>\n      <td>Grenada</td>\n      <td>Cereal</td>\n      <td>Online</td>\n      <td>C</td>\n      <td>2012-08-22</td>\n      <td>963881480</td>\n      <td>9/15/12</td>\n      <td>NaN</td>\n      <td>205.70</td>\n      <td>117.11</td>\n    </tr>\n    <tr>\n      <th>2</th>\n      <td>Russia</td>\n      <td>NaN</td>\n      <td>Offline</td>\n      <td>L</td>\n      <td>2014-05-02</td>\n      <td>341417157</td>\n      <td>5/8/14</td>\n      <td>1779.0</td>\n      <td>651.21</td>\n      <td>524.96</td>\n    </tr>\n    <tr>\n      <th>3</th>\n      <td>Sao Tome and Principe</td>\n      <td>Fruits</td>\n      <td>Online</td>\n      <td>C</td>\n      <td>2014-06-20</td>\n      <td>514321792</td>\n      <td>7/5/14</td>\n      <td>8102.0</td>\n      <td>9.33</td>\n      <td>6.92</td>\n    </tr>\n    <tr>\n      <th>4</th>\n      <td>Rwanda</td>\n      <td>Office Supplies</td>\n      <td>Offline</td>\n      <td>L</td>\n      <td>NaN</td>\n      <td>115456712</td>\n      <td>2/6/13</td>\n      <td>5062.0</td>\n      <td>651.21</td>\n      <td>524.96</td>\n    </tr>\n  </tbody>\n</table>\n</div>"
     },
     "metadata": {},
     "execution_count": 21
    }
   ],
   "source": [
    "# show 5 data\n",
    "df.head()"
   ]
  },
  {
   "cell_type": "code",
   "execution_count": 23,
   "metadata": {},
   "outputs": [
    {
     "output_type": "execute_result",
     "data": {
      "text/plain": [
       "                 id   units_sold   unit_price   unit_cost\n",
       "count  1.030000e+02   102.000000   103.000000  103.000000\n",
       "mean   5.562142e+08  5061.088235   366.054272  187.617087\n",
       "std    2.570006e+08  2842.876315   979.524308  186.814511\n",
       "min    1.146066e+08    97.000000     9.330000    3.670000\n",
       "25%    3.435679e+08  2489.250000    81.730000   35.840000\n",
       "50%    5.594271e+08  5382.500000   154.060000   97.440000\n",
       "75%    7.882880e+08  7338.250000   437.200000  263.330000\n",
       "max    9.940222e+08  9925.000000  9925.000000  524.960000"
      ],
      "text/html": "<div>\n<style scoped>\n    .dataframe tbody tr th:only-of-type {\n        vertical-align: middle;\n    }\n\n    .dataframe tbody tr th {\n        vertical-align: top;\n    }\n\n    .dataframe thead th {\n        text-align: right;\n    }\n</style>\n<table border=\"1\" class=\"dataframe\">\n  <thead>\n    <tr style=\"text-align: right;\">\n      <th></th>\n      <th>id</th>\n      <th>units_sold</th>\n      <th>unit_price</th>\n      <th>unit_cost</th>\n    </tr>\n  </thead>\n  <tbody>\n    <tr>\n      <th>count</th>\n      <td>1.030000e+02</td>\n      <td>102.000000</td>\n      <td>103.000000</td>\n      <td>103.000000</td>\n    </tr>\n    <tr>\n      <th>mean</th>\n      <td>5.562142e+08</td>\n      <td>5061.088235</td>\n      <td>366.054272</td>\n      <td>187.617087</td>\n    </tr>\n    <tr>\n      <th>std</th>\n      <td>2.570006e+08</td>\n      <td>2842.876315</td>\n      <td>979.524308</td>\n      <td>186.814511</td>\n    </tr>\n    <tr>\n      <th>min</th>\n      <td>1.146066e+08</td>\n      <td>97.000000</td>\n      <td>9.330000</td>\n      <td>3.670000</td>\n    </tr>\n    <tr>\n      <th>25%</th>\n      <td>3.435679e+08</td>\n      <td>2489.250000</td>\n      <td>81.730000</td>\n      <td>35.840000</td>\n    </tr>\n    <tr>\n      <th>50%</th>\n      <td>5.594271e+08</td>\n      <td>5382.500000</td>\n      <td>154.060000</td>\n      <td>97.440000</td>\n    </tr>\n    <tr>\n      <th>75%</th>\n      <td>7.882880e+08</td>\n      <td>7338.250000</td>\n      <td>437.200000</td>\n      <td>263.330000</td>\n    </tr>\n    <tr>\n      <th>max</th>\n      <td>9.940222e+08</td>\n      <td>9925.000000</td>\n      <td>9925.000000</td>\n      <td>524.960000</td>\n    </tr>\n  </tbody>\n</table>\n</div>"
     },
     "metadata": {},
     "execution_count": 23
    }
   ],
   "source": [
    "# statistic summary\n",
    "df.describe()"
   ]
  },
  {
   "cell_type": "code",
   "execution_count": 24,
   "metadata": {},
   "outputs": [
    {
     "output_type": "execute_result",
     "data": {
      "text/plain": [
       "                   country           type  channel priority        date  \\\n",
       "8    Republic of the Congo  Personal Care  Offline        M  2015-07-14   \n",
       "14                Mongolia  Personal Care  Offline        C  2014-02-19   \n",
       "24                Moldova   Personal Care   Online        L  2016-05-07   \n",
       "31             South Sudan  Personal Care  Offline        C  2013-12-29   \n",
       "35              Costa Rica  Personal Care  Offline        L  2017-05-08   \n",
       "40                   Niger  Personal Care   Online        H  2017-03-11   \n",
       "47             Switzerland  Personal Care   Online        M  2010-12-23   \n",
       "66                   Gabon  Personal Care  Offline        L  2012-07-08   \n",
       "85                  Mexico  Personal Care  Offline        L  2012-02-17   \n",
       "98                  Mexico  Personal Care  Offline        M  2015-07-30   \n",
       "101            Philiphines  Personal Care  Offline   Fruits  2015-07-30   \n",
       "102                 Mexico  Personal Care  Offline        M  2015-07-30   \n",
       "\n",
       "            id ship_date  units_sold  unit_price  unit_cost  \n",
       "8    770463311   8/25/15      6070.0       81.73      56.67  \n",
       "14   832401311   2/23/14      4901.0       81.73      56.67  \n",
       "24   740147912   5/10/16      5070.0       81.73      56.67  \n",
       "31   406502997   1/28/14      2125.0       81.73      56.67  \n",
       "35   456767165   5/21/17      6409.0       81.73      56.67  \n",
       "40   699285638   3/28/17      3015.0       81.73      56.67  \n",
       "47   617667090   1/31/11       273.0       81.73      56.67  \n",
       "66   228944623    7/9/12      8656.0       81.73      56.67  \n",
       "85   430915820   3/20/12      6422.0       81.73      56.67  \n",
       "98   559427106    8/8/15      5767.0       81.73      56.67  \n",
       "101  559427126    8/8/15       300.0       20.73       3.67  \n",
       "102  559427106    8/8/15      5767.0       81.73      56.67  "
      ],
      "text/html": "<div>\n<style scoped>\n    .dataframe tbody tr th:only-of-type {\n        vertical-align: middle;\n    }\n\n    .dataframe tbody tr th {\n        vertical-align: top;\n    }\n\n    .dataframe thead th {\n        text-align: right;\n    }\n</style>\n<table border=\"1\" class=\"dataframe\">\n  <thead>\n    <tr style=\"text-align: right;\">\n      <th></th>\n      <th>country</th>\n      <th>type</th>\n      <th>channel</th>\n      <th>priority</th>\n      <th>date</th>\n      <th>id</th>\n      <th>ship_date</th>\n      <th>units_sold</th>\n      <th>unit_price</th>\n      <th>unit_cost</th>\n    </tr>\n  </thead>\n  <tbody>\n    <tr>\n      <th>8</th>\n      <td>Republic of the Congo</td>\n      <td>Personal Care</td>\n      <td>Offline</td>\n      <td>M</td>\n      <td>2015-07-14</td>\n      <td>770463311</td>\n      <td>8/25/15</td>\n      <td>6070.0</td>\n      <td>81.73</td>\n      <td>56.67</td>\n    </tr>\n    <tr>\n      <th>14</th>\n      <td>Mongolia</td>\n      <td>Personal Care</td>\n      <td>Offline</td>\n      <td>C</td>\n      <td>2014-02-19</td>\n      <td>832401311</td>\n      <td>2/23/14</td>\n      <td>4901.0</td>\n      <td>81.73</td>\n      <td>56.67</td>\n    </tr>\n    <tr>\n      <th>24</th>\n      <td>Moldova</td>\n      <td>Personal Care</td>\n      <td>Online</td>\n      <td>L</td>\n      <td>2016-05-07</td>\n      <td>740147912</td>\n      <td>5/10/16</td>\n      <td>5070.0</td>\n      <td>81.73</td>\n      <td>56.67</td>\n    </tr>\n    <tr>\n      <th>31</th>\n      <td>South Sudan</td>\n      <td>Personal Care</td>\n      <td>Offline</td>\n      <td>C</td>\n      <td>2013-12-29</td>\n      <td>406502997</td>\n      <td>1/28/14</td>\n      <td>2125.0</td>\n      <td>81.73</td>\n      <td>56.67</td>\n    </tr>\n    <tr>\n      <th>35</th>\n      <td>Costa Rica</td>\n      <td>Personal Care</td>\n      <td>Offline</td>\n      <td>L</td>\n      <td>2017-05-08</td>\n      <td>456767165</td>\n      <td>5/21/17</td>\n      <td>6409.0</td>\n      <td>81.73</td>\n      <td>56.67</td>\n    </tr>\n    <tr>\n      <th>40</th>\n      <td>Niger</td>\n      <td>Personal Care</td>\n      <td>Online</td>\n      <td>H</td>\n      <td>2017-03-11</td>\n      <td>699285638</td>\n      <td>3/28/17</td>\n      <td>3015.0</td>\n      <td>81.73</td>\n      <td>56.67</td>\n    </tr>\n    <tr>\n      <th>47</th>\n      <td>Switzerland</td>\n      <td>Personal Care</td>\n      <td>Online</td>\n      <td>M</td>\n      <td>2010-12-23</td>\n      <td>617667090</td>\n      <td>1/31/11</td>\n      <td>273.0</td>\n      <td>81.73</td>\n      <td>56.67</td>\n    </tr>\n    <tr>\n      <th>66</th>\n      <td>Gabon</td>\n      <td>Personal Care</td>\n      <td>Offline</td>\n      <td>L</td>\n      <td>2012-07-08</td>\n      <td>228944623</td>\n      <td>7/9/12</td>\n      <td>8656.0</td>\n      <td>81.73</td>\n      <td>56.67</td>\n    </tr>\n    <tr>\n      <th>85</th>\n      <td>Mexico</td>\n      <td>Personal Care</td>\n      <td>Offline</td>\n      <td>L</td>\n      <td>2012-02-17</td>\n      <td>430915820</td>\n      <td>3/20/12</td>\n      <td>6422.0</td>\n      <td>81.73</td>\n      <td>56.67</td>\n    </tr>\n    <tr>\n      <th>98</th>\n      <td>Mexico</td>\n      <td>Personal Care</td>\n      <td>Offline</td>\n      <td>M</td>\n      <td>2015-07-30</td>\n      <td>559427106</td>\n      <td>8/8/15</td>\n      <td>5767.0</td>\n      <td>81.73</td>\n      <td>56.67</td>\n    </tr>\n    <tr>\n      <th>101</th>\n      <td>Philiphines</td>\n      <td>Personal Care</td>\n      <td>Offline</td>\n      <td>Fruits</td>\n      <td>2015-07-30</td>\n      <td>559427126</td>\n      <td>8/8/15</td>\n      <td>300.0</td>\n      <td>20.73</td>\n      <td>3.67</td>\n    </tr>\n    <tr>\n      <th>102</th>\n      <td>Mexico</td>\n      <td>Personal Care</td>\n      <td>Offline</td>\n      <td>M</td>\n      <td>2015-07-30</td>\n      <td>559427106</td>\n      <td>8/8/15</td>\n      <td>5767.0</td>\n      <td>81.73</td>\n      <td>56.67</td>\n    </tr>\n  </tbody>\n</table>\n</div>"
     },
     "metadata": {},
     "execution_count": 24
    }
   ],
   "source": [
    "# filter by country\n",
    "df[df[\"country\"]==\"Russia\"]\n",
    "\n",
    "# filter by type\n",
    "df[df[\"type\"]==\"Personal Care\"]"
   ]
  },
  {
   "cell_type": "code",
   "execution_count": 28,
   "metadata": {},
   "outputs": [
    {
     "output_type": "execute_result",
     "data": {
      "text/plain": [
       "                 country        type  channel priority        date         id  \\\n",
       "0                 Tuvalu   Baby Food  Offline        H  2010-05-28  669165933   \n",
       "3  Sao Tome and Principe      Fruits   Online        C  2014-06-20  514321792   \n",
       "5        Solomon Islands   Baby Food   Online        C  2015-02-04  547995746   \n",
       "6                 Angola   Household  Offline        M  2011-04-23  135425221   \n",
       "7           Burkina Faso  Vegetables   Online        H  2012-07-17  871543967   \n",
       "\n",
       "  ship_date  units_sold  unit_price  unit_cost  \n",
       "0   6/27/10      9925.0      255.28     159.42  \n",
       "3    7/5/14      8102.0        9.33       6.92  \n",
       "5   2/21/15      2974.0      255.28     159.42  \n",
       "6   4/27/11      4187.0      668.27     502.54  \n",
       "7   7/27/12      8082.0      154.06      90.93  "
      ],
      "text/html": "<div>\n<style scoped>\n    .dataframe tbody tr th:only-of-type {\n        vertical-align: middle;\n    }\n\n    .dataframe tbody tr th {\n        vertical-align: top;\n    }\n\n    .dataframe thead th {\n        text-align: right;\n    }\n</style>\n<table border=\"1\" class=\"dataframe\">\n  <thead>\n    <tr style=\"text-align: right;\">\n      <th></th>\n      <th>country</th>\n      <th>type</th>\n      <th>channel</th>\n      <th>priority</th>\n      <th>date</th>\n      <th>id</th>\n      <th>ship_date</th>\n      <th>units_sold</th>\n      <th>unit_price</th>\n      <th>unit_cost</th>\n    </tr>\n  </thead>\n  <tbody>\n    <tr>\n      <th>0</th>\n      <td>Tuvalu</td>\n      <td>Baby Food</td>\n      <td>Offline</td>\n      <td>H</td>\n      <td>2010-05-28</td>\n      <td>669165933</td>\n      <td>6/27/10</td>\n      <td>9925.0</td>\n      <td>255.28</td>\n      <td>159.42</td>\n    </tr>\n    <tr>\n      <th>3</th>\n      <td>Sao Tome and Principe</td>\n      <td>Fruits</td>\n      <td>Online</td>\n      <td>C</td>\n      <td>2014-06-20</td>\n      <td>514321792</td>\n      <td>7/5/14</td>\n      <td>8102.0</td>\n      <td>9.33</td>\n      <td>6.92</td>\n    </tr>\n    <tr>\n      <th>5</th>\n      <td>Solomon Islands</td>\n      <td>Baby Food</td>\n      <td>Online</td>\n      <td>C</td>\n      <td>2015-02-04</td>\n      <td>547995746</td>\n      <td>2/21/15</td>\n      <td>2974.0</td>\n      <td>255.28</td>\n      <td>159.42</td>\n    </tr>\n    <tr>\n      <th>6</th>\n      <td>Angola</td>\n      <td>Household</td>\n      <td>Offline</td>\n      <td>M</td>\n      <td>2011-04-23</td>\n      <td>135425221</td>\n      <td>4/27/11</td>\n      <td>4187.0</td>\n      <td>668.27</td>\n      <td>502.54</td>\n    </tr>\n    <tr>\n      <th>7</th>\n      <td>Burkina Faso</td>\n      <td>Vegetables</td>\n      <td>Online</td>\n      <td>H</td>\n      <td>2012-07-17</td>\n      <td>871543967</td>\n      <td>7/27/12</td>\n      <td>8082.0</td>\n      <td>154.06</td>\n      <td>90.93</td>\n    </tr>\n  </tbody>\n</table>\n</div>"
     },
     "metadata": {},
     "execution_count": 28
    }
   ],
   "source": [
    "# Data Cleaning\n",
    "\n",
    "# show missing value\n",
    "df[df.isna().any(axis=1)]\n",
    "\n",
    "# drop missing value\n",
    "df = df.dropna()\n",
    "df.head()"
   ]
  },
  {
   "cell_type": "code",
   "execution_count": 7,
   "metadata": {},
   "outputs": [
    {
     "output_type": "execute_result",
     "data": {
      "text/plain": [
       "array(['Baby Food', 'Fruits', 'Household', 'Vegetables', 'Personal Care',\n",
       "       'Cereal', 'Clothes', 'Cosmetics', 'Beverages', 'Meat', 'Snacks',\n",
       "       'Office Supplies'], dtype=object)"
      ]
     },
     "metadata": {},
     "execution_count": 7
    }
   ],
   "source": [
    "# check unique column type\n",
    "df[\"type\"].unique()\n",
    "\n",
    "# replace froots to fruits (typo)\n",
    "df.loc[df[\"type\"]==\"Froots\", \"type\"] = \"Fruits\"\n",
    "\n",
    "# show result\n",
    "df[\"type\"].unique()"
   ]
  },
  {
   "cell_type": "code",
   "execution_count": 30,
   "metadata": {},
   "outputs": [
    {
     "output_type": "execute_result",
     "data": {
      "text/plain": [
       "Empty DataFrame\n",
       "Columns: [country, type, channel, priority, date, id, ship_date, units_sold, unit_price, unit_cost]\n",
       "Index: []"
      ],
      "text/html": "<div>\n<style scoped>\n    .dataframe tbody tr th:only-of-type {\n        vertical-align: middle;\n    }\n\n    .dataframe tbody tr th {\n        vertical-align: top;\n    }\n\n    .dataframe thead th {\n        text-align: right;\n    }\n</style>\n<table border=\"1\" class=\"dataframe\">\n  <thead>\n    <tr style=\"text-align: right;\">\n      <th></th>\n      <th>country</th>\n      <th>type</th>\n      <th>channel</th>\n      <th>priority</th>\n      <th>date</th>\n      <th>id</th>\n      <th>ship_date</th>\n      <th>units_sold</th>\n      <th>unit_price</th>\n      <th>unit_cost</th>\n    </tr>\n  </thead>\n  <tbody>\n  </tbody>\n</table>\n</div>"
     },
     "metadata": {},
     "execution_count": 30
    }
   ],
   "source": [
    "# duplicate data\n",
    "df[df.duplicated()]\n",
    "\n",
    "# check record yang duplicate\n",
    "df[df[\"id\"]==559427106]\n",
    "\n",
    "# drop duplicate\n",
    "df = df.drop_duplicates()\n",
    "\n",
    "# duplicate data again\n",
    "df[df.duplicated()]"
   ]
  },
  {
   "cell_type": "code",
   "execution_count": 31,
   "metadata": {},
   "outputs": [
    {
     "output_type": "execute_result",
     "data": {
      "text/plain": [
       "                   country           type  channel priority        date  \\\n",
       "0                   Tuvalu      Baby Food  Offline        H  2010-05-28   \n",
       "3    Sao Tome and Principe         Fruits   Online        C  2014-06-20   \n",
       "5          Solomon Islands      Baby Food   Online        C  2015-02-04   \n",
       "6                   Angola      Household  Offline        M  2011-04-23   \n",
       "7             Burkina Faso     Vegetables   Online        H  2012-07-17   \n",
       "..                     ...            ...      ...      ...         ...   \n",
       "96                Malaysia         Fruits  Offline        L  2011-11-11   \n",
       "97            Sierra Leone     Vegetables  Offline        C  2016-06-01   \n",
       "98                  Mexico  Personal Care  Offline        M  2015-07-30   \n",
       "99              Mozambique      Household  Offline        L  2012-02-10   \n",
       "100              Indonesia         Froots   Online        H  2012-08-22   \n",
       "\n",
       "            id ship_date  units_sold  unit_price  unit_cost  \n",
       "0    669165933   6/27/10      9925.0      255.28     159.42  \n",
       "3    514321792    7/5/14      8102.0        9.33       6.92  \n",
       "5    547995746   2/21/15      2974.0      255.28     159.42  \n",
       "6    135425221   4/27/11      4187.0      668.27     502.54  \n",
       "7    871543967   7/27/12      8082.0      154.06      90.93  \n",
       "..         ...       ...         ...         ...        ...  \n",
       "96   810711038  12/28/11      6267.0        9.33       6.92  \n",
       "97   728815257   6/29/16      1485.0      154.06      90.93  \n",
       "98   559427106    8/8/15      5767.0       81.73      56.67  \n",
       "99   665095412   2/15/12      5367.0      668.27     502.54  \n",
       "100  669165412   9/15/12        97.0     9925.00     159.42  \n",
       "\n",
       "[98 rows x 10 columns]"
      ],
      "text/html": "<div>\n<style scoped>\n    .dataframe tbody tr th:only-of-type {\n        vertical-align: middle;\n    }\n\n    .dataframe tbody tr th {\n        vertical-align: top;\n    }\n\n    .dataframe thead th {\n        text-align: right;\n    }\n</style>\n<table border=\"1\" class=\"dataframe\">\n  <thead>\n    <tr style=\"text-align: right;\">\n      <th></th>\n      <th>country</th>\n      <th>type</th>\n      <th>channel</th>\n      <th>priority</th>\n      <th>date</th>\n      <th>id</th>\n      <th>ship_date</th>\n      <th>units_sold</th>\n      <th>unit_price</th>\n      <th>unit_cost</th>\n    </tr>\n  </thead>\n  <tbody>\n    <tr>\n      <th>0</th>\n      <td>Tuvalu</td>\n      <td>Baby Food</td>\n      <td>Offline</td>\n      <td>H</td>\n      <td>2010-05-28</td>\n      <td>669165933</td>\n      <td>6/27/10</td>\n      <td>9925.0</td>\n      <td>255.28</td>\n      <td>159.42</td>\n    </tr>\n    <tr>\n      <th>3</th>\n      <td>Sao Tome and Principe</td>\n      <td>Fruits</td>\n      <td>Online</td>\n      <td>C</td>\n      <td>2014-06-20</td>\n      <td>514321792</td>\n      <td>7/5/14</td>\n      <td>8102.0</td>\n      <td>9.33</td>\n      <td>6.92</td>\n    </tr>\n    <tr>\n      <th>5</th>\n      <td>Solomon Islands</td>\n      <td>Baby Food</td>\n      <td>Online</td>\n      <td>C</td>\n      <td>2015-02-04</td>\n      <td>547995746</td>\n      <td>2/21/15</td>\n      <td>2974.0</td>\n      <td>255.28</td>\n      <td>159.42</td>\n    </tr>\n    <tr>\n      <th>6</th>\n      <td>Angola</td>\n      <td>Household</td>\n      <td>Offline</td>\n      <td>M</td>\n      <td>2011-04-23</td>\n      <td>135425221</td>\n      <td>4/27/11</td>\n      <td>4187.0</td>\n      <td>668.27</td>\n      <td>502.54</td>\n    </tr>\n    <tr>\n      <th>7</th>\n      <td>Burkina Faso</td>\n      <td>Vegetables</td>\n      <td>Online</td>\n      <td>H</td>\n      <td>2012-07-17</td>\n      <td>871543967</td>\n      <td>7/27/12</td>\n      <td>8082.0</td>\n      <td>154.06</td>\n      <td>90.93</td>\n    </tr>\n    <tr>\n      <th>...</th>\n      <td>...</td>\n      <td>...</td>\n      <td>...</td>\n      <td>...</td>\n      <td>...</td>\n      <td>...</td>\n      <td>...</td>\n      <td>...</td>\n      <td>...</td>\n      <td>...</td>\n    </tr>\n    <tr>\n      <th>96</th>\n      <td>Malaysia</td>\n      <td>Fruits</td>\n      <td>Offline</td>\n      <td>L</td>\n      <td>2011-11-11</td>\n      <td>810711038</td>\n      <td>12/28/11</td>\n      <td>6267.0</td>\n      <td>9.33</td>\n      <td>6.92</td>\n    </tr>\n    <tr>\n      <th>97</th>\n      <td>Sierra Leone</td>\n      <td>Vegetables</td>\n      <td>Offline</td>\n      <td>C</td>\n      <td>2016-06-01</td>\n      <td>728815257</td>\n      <td>6/29/16</td>\n      <td>1485.0</td>\n      <td>154.06</td>\n      <td>90.93</td>\n    </tr>\n    <tr>\n      <th>98</th>\n      <td>Mexico</td>\n      <td>Personal Care</td>\n      <td>Offline</td>\n      <td>M</td>\n      <td>2015-07-30</td>\n      <td>559427106</td>\n      <td>8/8/15</td>\n      <td>5767.0</td>\n      <td>81.73</td>\n      <td>56.67</td>\n    </tr>\n    <tr>\n      <th>99</th>\n      <td>Mozambique</td>\n      <td>Household</td>\n      <td>Offline</td>\n      <td>L</td>\n      <td>2012-02-10</td>\n      <td>665095412</td>\n      <td>2/15/12</td>\n      <td>5367.0</td>\n      <td>668.27</td>\n      <td>502.54</td>\n    </tr>\n    <tr>\n      <th>100</th>\n      <td>Indonesia</td>\n      <td>Froots</td>\n      <td>Online</td>\n      <td>H</td>\n      <td>2012-08-22</td>\n      <td>669165412</td>\n      <td>9/15/12</td>\n      <td>97.0</td>\n      <td>9925.00</td>\n      <td>159.42</td>\n    </tr>\n  </tbody>\n</table>\n<p>98 rows × 10 columns</p>\n</div>"
     },
     "metadata": {},
     "execution_count": 31
    }
   ],
   "source": [
    "# check unique column priority\n",
    "df[\"priority\"].unique()\n",
    "\n",
    "# drop Fruits (typo)\n",
    "df = df[df[\"priority\"] != \"Fruits\"]\n",
    "df"
   ]
  },
  {
   "cell_type": "code",
   "execution_count": 33,
   "metadata": {},
   "outputs": [],
   "source": [
    "# export hasil cleaning\n",
    "df.to_csv(\"sales_clean.csv\")"
   ]
  },
  {
   "cell_type": "code",
   "execution_count": 34,
   "metadata": {},
   "outputs": [
    {
     "output_type": "execute_result",
     "data": {
      "text/plain": [
       "     country      profit\n",
       "16  Djibouti  2425317.87\n",
       "46   Myanmar  1802771.70\n",
       "51  Pakistan  1719922.04\n",
       "56    Samoa   1678540.98\n",
       "23  Honduras  1609947.52"
      ],
      "text/html": "<div>\n<style scoped>\n    .dataframe tbody tr th:only-of-type {\n        vertical-align: middle;\n    }\n\n    .dataframe tbody tr th {\n        vertical-align: top;\n    }\n\n    .dataframe thead th {\n        text-align: right;\n    }\n</style>\n<table border=\"1\" class=\"dataframe\">\n  <thead>\n    <tr style=\"text-align: right;\">\n      <th></th>\n      <th>country</th>\n      <th>profit</th>\n    </tr>\n  </thead>\n  <tbody>\n    <tr>\n      <th>16</th>\n      <td>Djibouti</td>\n      <td>2425317.87</td>\n    </tr>\n    <tr>\n      <th>46</th>\n      <td>Myanmar</td>\n      <td>1802771.70</td>\n    </tr>\n    <tr>\n      <th>51</th>\n      <td>Pakistan</td>\n      <td>1719922.04</td>\n    </tr>\n    <tr>\n      <th>56</th>\n      <td>Samoa</td>\n      <td>1678540.98</td>\n    </tr>\n    <tr>\n      <th>23</th>\n      <td>Honduras</td>\n      <td>1609947.52</td>\n    </tr>\n  </tbody>\n</table>\n</div>"
     },
     "metadata": {},
     "execution_count": 34
    }
   ],
   "source": [
    "# 1. country yang profit paling besar?\n",
    "# rumus : profit = revenue - total_cost\n",
    "df[\"revenue\"] = df[\"units_sold\"] * df[\"unit_price\"]\n",
    "df[\"total_cost\"] = df[\"units_sold\"] * df[\"unit_cost\"]\n",
    "df[\"profit\"] = df[\"revenue\"] - df[\"total_cost\"]\n",
    "df.groupby(\"country\")[\"profit\"].sum().reset_index().sort_values(\"profit\", ascending=False).head(5)"
   ]
  },
  {
   "cell_type": "code",
   "execution_count": 38,
   "metadata": {},
   "outputs": [
    {
     "output_type": "execute_result",
     "data": {
      "text/plain": [
       "    month         profit\n",
       "0       1  402408.145714\n",
       "1       2  536081.084167\n",
       "2       3  232087.765000\n",
       "3       4  528912.038889\n",
       "4       5  435809.355000\n",
       "5       6  218537.943000\n",
       "6       7  464871.921667\n",
       "7       8  319532.892500\n",
       "8       9  468833.206000\n",
       "9      10  409720.295455\n",
       "10     11  717511.183333\n",
       "11     12  471246.014000"
      ],
      "text/html": "<div>\n<style scoped>\n    .dataframe tbody tr th:only-of-type {\n        vertical-align: middle;\n    }\n\n    .dataframe tbody tr th {\n        vertical-align: top;\n    }\n\n    .dataframe thead th {\n        text-align: right;\n    }\n</style>\n<table border=\"1\" class=\"dataframe\">\n  <thead>\n    <tr style=\"text-align: right;\">\n      <th></th>\n      <th>month</th>\n      <th>profit</th>\n    </tr>\n  </thead>\n  <tbody>\n    <tr>\n      <th>0</th>\n      <td>1</td>\n      <td>402408.145714</td>\n    </tr>\n    <tr>\n      <th>1</th>\n      <td>2</td>\n      <td>536081.084167</td>\n    </tr>\n    <tr>\n      <th>2</th>\n      <td>3</td>\n      <td>232087.765000</td>\n    </tr>\n    <tr>\n      <th>3</th>\n      <td>4</td>\n      <td>528912.038889</td>\n    </tr>\n    <tr>\n      <th>4</th>\n      <td>5</td>\n      <td>435809.355000</td>\n    </tr>\n    <tr>\n      <th>5</th>\n      <td>6</td>\n      <td>218537.943000</td>\n    </tr>\n    <tr>\n      <th>6</th>\n      <td>7</td>\n      <td>464871.921667</td>\n    </tr>\n    <tr>\n      <th>7</th>\n      <td>8</td>\n      <td>319532.892500</td>\n    </tr>\n    <tr>\n      <th>8</th>\n      <td>9</td>\n      <td>468833.206000</td>\n    </tr>\n    <tr>\n      <th>9</th>\n      <td>10</td>\n      <td>409720.295455</td>\n    </tr>\n    <tr>\n      <th>10</th>\n      <td>11</td>\n      <td>717511.183333</td>\n    </tr>\n    <tr>\n      <th>11</th>\n      <td>12</td>\n      <td>471246.014000</td>\n    </tr>\n  </tbody>\n</table>\n</div>"
     },
     "metadata": {},
     "execution_count": 38
    }
   ],
   "source": [
    "# 2. Rata-rata dari type vegetables di bulan februari?\n",
    "\n",
    "# cek tipe data\n",
    "df.dtypes\n",
    "\n",
    "# rubah type data date object menjadi datetime\n",
    "df[\"date\"] = pd.to_datetime(df[\"date\"])\n",
    "df.dtypes\n",
    "\n",
    "# extract month dari datetime\n",
    "df[\"month\"] = df[\"date\"].dt.month\n",
    "\n",
    "# group by month \n",
    "df.groupby('month')['profit'].mean().reset_index()"
   ]
  },
  {
   "cell_type": "code",
   "execution_count": 41,
   "metadata": {},
   "outputs": [
    {
     "output_type": "execute_result",
     "data": {
      "text/plain": [
       "    month      profit\n",
       "10     11  6457600.65\n",
       "1       2  6432973.01\n",
       "6       7  5578463.06\n",
       "3       4  4760208.35\n",
       "9      10  4506923.25\n",
       "4       5  4358093.55\n",
       "0       1  2816857.02\n",
       "11     12  2356230.07\n",
       "8       9  2344166.03\n",
       "5       6  2185379.43\n",
       "7       8  1278131.57\n",
       "2       3   928351.06"
      ],
      "text/html": "<div>\n<style scoped>\n    .dataframe tbody tr th:only-of-type {\n        vertical-align: middle;\n    }\n\n    .dataframe tbody tr th {\n        vertical-align: top;\n    }\n\n    .dataframe thead th {\n        text-align: right;\n    }\n</style>\n<table border=\"1\" class=\"dataframe\">\n  <thead>\n    <tr style=\"text-align: right;\">\n      <th></th>\n      <th>month</th>\n      <th>profit</th>\n    </tr>\n  </thead>\n  <tbody>\n    <tr>\n      <th>10</th>\n      <td>11</td>\n      <td>6457600.65</td>\n    </tr>\n    <tr>\n      <th>1</th>\n      <td>2</td>\n      <td>6432973.01</td>\n    </tr>\n    <tr>\n      <th>6</th>\n      <td>7</td>\n      <td>5578463.06</td>\n    </tr>\n    <tr>\n      <th>3</th>\n      <td>4</td>\n      <td>4760208.35</td>\n    </tr>\n    <tr>\n      <th>9</th>\n      <td>10</td>\n      <td>4506923.25</td>\n    </tr>\n    <tr>\n      <th>4</th>\n      <td>5</td>\n      <td>4358093.55</td>\n    </tr>\n    <tr>\n      <th>0</th>\n      <td>1</td>\n      <td>2816857.02</td>\n    </tr>\n    <tr>\n      <th>11</th>\n      <td>12</td>\n      <td>2356230.07</td>\n    </tr>\n    <tr>\n      <th>8</th>\n      <td>9</td>\n      <td>2344166.03</td>\n    </tr>\n    <tr>\n      <th>5</th>\n      <td>6</td>\n      <td>2185379.43</td>\n    </tr>\n    <tr>\n      <th>7</th>\n      <td>8</td>\n      <td>1278131.57</td>\n    </tr>\n    <tr>\n      <th>2</th>\n      <td>3</td>\n      <td>928351.06</td>\n    </tr>\n  </tbody>\n</table>\n</div>"
     },
     "metadata": {},
     "execution_count": 41
    }
   ],
   "source": [
    "# 3. Bulan berapa sales paling tinggi?\n",
    "df.groupby('month')['profit'].sum().reset_index().sort_values('profit', ascending=False)"
   ]
  },
  {
   "cell_type": "code",
   "execution_count": 43,
   "metadata": {},
   "outputs": [
    {
     "output_type": "execute_result",
     "data": {
      "text/plain": [
       "           id      profit\n",
       "16  231145322  1719922.04\n",
       "61  670854651  1678540.98\n",
       "23  331438481  1541705.29\n",
       "18  249693334  1505888.07\n",
       "45  522840487  1487261.02\n",
       "..        ...         ...\n",
       "77  814711606     7828.12\n",
       "53  617667090     6841.38\n",
       "3   142278373     5270.67\n",
       "78  816200339     1621.93\n",
       "42  513417565     1258.02\n",
       "\n",
       "[98 rows x 2 columns]"
      ],
      "text/html": "<div>\n<style scoped>\n    .dataframe tbody tr th:only-of-type {\n        vertical-align: middle;\n    }\n\n    .dataframe tbody tr th {\n        vertical-align: top;\n    }\n\n    .dataframe thead th {\n        text-align: right;\n    }\n</style>\n<table border=\"1\" class=\"dataframe\">\n  <thead>\n    <tr style=\"text-align: right;\">\n      <th></th>\n      <th>id</th>\n      <th>profit</th>\n    </tr>\n  </thead>\n  <tbody>\n    <tr>\n      <th>16</th>\n      <td>231145322</td>\n      <td>1719922.04</td>\n    </tr>\n    <tr>\n      <th>61</th>\n      <td>670854651</td>\n      <td>1678540.98</td>\n    </tr>\n    <tr>\n      <th>23</th>\n      <td>331438481</td>\n      <td>1541705.29</td>\n    </tr>\n    <tr>\n      <th>18</th>\n      <td>249693334</td>\n      <td>1505888.07</td>\n    </tr>\n    <tr>\n      <th>45</th>\n      <td>522840487</td>\n      <td>1487261.02</td>\n    </tr>\n    <tr>\n      <th>...</th>\n      <td>...</td>\n      <td>...</td>\n    </tr>\n    <tr>\n      <th>77</th>\n      <td>814711606</td>\n      <td>7828.12</td>\n    </tr>\n    <tr>\n      <th>53</th>\n      <td>617667090</td>\n      <td>6841.38</td>\n    </tr>\n    <tr>\n      <th>3</th>\n      <td>142278373</td>\n      <td>5270.67</td>\n    </tr>\n    <tr>\n      <th>78</th>\n      <td>816200339</td>\n      <td>1621.93</td>\n    </tr>\n    <tr>\n      <th>42</th>\n      <td>513417565</td>\n      <td>1258.02</td>\n    </tr>\n  </tbody>\n</table>\n<p>98 rows × 2 columns</p>\n</div>"
     },
     "metadata": {},
     "execution_count": 43
    }
   ],
   "source": [
    "# 4. list 5 id teratas berdasarkan profit?\n",
    "df.groupby('id')['profit'].sum().reset_index().sort_values('profit', ascending=False)"
   ]
  },
  {
   "cell_type": "code",
   "execution_count": 55,
   "metadata": {},
   "outputs": [
    {
     "output_type": "execute_result",
     "data": {
      "text/plain": [
       "                           units_sold\n",
       "country   type                       \n",
       "Australia Beverages            9389.0\n",
       "          Office Supplies      2924.0\n",
       "          Cereal                682.0"
      ],
      "text/html": "<div>\n<style scoped>\n    .dataframe tbody tr th:only-of-type {\n        vertical-align: middle;\n    }\n\n    .dataframe tbody tr th {\n        vertical-align: top;\n    }\n\n    .dataframe thead th {\n        text-align: right;\n    }\n</style>\n<table border=\"1\" class=\"dataframe\">\n  <thead>\n    <tr style=\"text-align: right;\">\n      <th></th>\n      <th></th>\n      <th>units_sold</th>\n    </tr>\n    <tr>\n      <th>country</th>\n      <th>type</th>\n      <th></th>\n    </tr>\n  </thead>\n  <tbody>\n    <tr>\n      <th rowspan=\"3\" valign=\"top\">Australia</th>\n      <th>Beverages</th>\n      <td>9389.0</td>\n    </tr>\n    <tr>\n      <th>Office Supplies</th>\n      <td>2924.0</td>\n    </tr>\n    <tr>\n      <th>Cereal</th>\n      <td>682.0</td>\n    </tr>\n  </tbody>\n</table>\n</div>"
     },
     "metadata": {},
     "execution_count": 55
    }
   ],
   "source": [
    "# 5. produk paling populer di Australia?\n",
    "df[df[\"country\"] == \"Australia\"].groupby([\"country\",\"type\"]).agg({\"units_sold\":\"sum\"}).sort_values(\"units_sold\",ascending=False)"
   ]
  }
 ]
}